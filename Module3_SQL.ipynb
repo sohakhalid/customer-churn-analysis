{
 "cells": [
  {
   "cell_type": "markdown",
   "metadata": {},
   "source": [
    "![](../MISC/unnamed_1.png)"
   ]
  },
  {
   "cell_type": "markdown",
   "metadata": {},
   "source": [
    "# Analysing Customer Churn Data - Predicting Behavior to Retain Customers\n",
    "\n"
   ]
  },
  {
   "cell_type": "markdown",
   "metadata": {},
   "source": [
    "Rayyan Minhaj (Data Science Intern - 10Pearls)"
   ]
  },
  {
   "cell_type": "markdown",
   "metadata": {},
   "source": [
    "---"
   ]
  },
  {
   "cell_type": "markdown",
   "metadata": {},
   "source": [
    "## Module 3: Database Schema, SQL, and Queries\n",
    "Using SQL to create tables, perform data ingestion, call queries, and other various action items."
   ]
  },
  {
   "cell_type": "code",
   "execution_count": 2,
   "metadata": {},
   "outputs": [],
   "source": [
    "import psycopg2"
   ]
  },
  {
   "cell_type": "code",
   "execution_count": 3,
   "metadata": {},
   "outputs": [],
   "source": [
    "conn = psycopg2.connect(host=\"localhost\", dbname=\"10Pearls-Customer-Churn-Data\", user=\"postgres\", password=\"1234\", port=5432)\n",
    "cur = conn.cursor()"
   ]
  },
  {
   "cell_type": "markdown",
   "metadata": {},
   "source": [
    "![](notebook_imgs/ERD.png)"
   ]
  },
  {
   "cell_type": "markdown",
   "metadata": {},
   "source": [
    "## 1. Creating Schema & Tables "
   ]
  },
  {
   "cell_type": "code",
   "execution_count": 24,
   "metadata": {},
   "outputs": [],
   "source": [
    "cur.execute(\"\"\"\n",
    "    CREATE TABLE Customers (\n",
    "    customer_id VARCHAR(50) PRIMARY KEY,\n",
    "    gender VARCHAR(10),\n",
    "    senior_citizen BOOLEAN,\n",
    "    partner BOOLEAN,\n",
    "    dependents BOOLEAN\n",
    ");\n",
    "\n",
    "    CREATE TABLE Services (\n",
    "    customer_id VARCHAR(50),\n",
    "    phone_service BOOLEAN,\n",
    "    multiple_lines BOOLEAN,\n",
    "    internet_service VARCHAR(50),\n",
    "    online_security BOOLEAN,\n",
    "    online_backup BOOLEAN,\n",
    "    device_protection BOOLEAN,\n",
    "    tech_support BOOLEAN,\n",
    "    streaming_tv BOOLEAN,\n",
    "    streaming_movies BOOLEAN,\n",
    "            \n",
    "    FOREIGN KEY (customer_id) REFERENCES Customers(customer_id)\n",
    ");\n",
    "\n",
    "CREATE TABLE Billing (\n",
    "    customer_id VARCHAR(50),\n",
    "    contract VARCHAR(50),\n",
    "    paperless_billing BOOLEAN,\n",
    "    payment_method VARCHAR(50),\n",
    "    monthly_charges DECIMAL,\n",
    "    total_charges DECIMAL,\n",
    "    tenure INT,\n",
    "    FOREIGN KEY (customer_id) REFERENCES Customers(customer_id)\n",
    ");\n",
    "            \n",
    "    CREATE TABLE Churn_Predictions (\n",
    "    customer_id VARCHAR(50),\n",
    "    churn_prediction BOOLEAN,\n",
    "    \n",
    "    FOREIGN KEY (customer_id) REFERENCES Customers(customer_id)\n",
    ");        \n",
    "\n",
    "\n",
    "\"\"\")"
   ]
  },
  {
   "cell_type": "code",
   "execution_count": 25,
   "metadata": {},
   "outputs": [],
   "source": [
    "conn.commit()"
   ]
  },
  {
   "cell_type": "markdown",
   "metadata": {},
   "source": [
    "![table_png.png](notebook_imgs/table_png.png)"
   ]
  },
  {
   "cell_type": "markdown",
   "metadata": {},
   "source": [
    "### Services Table\n",
    "![table_png.png](notebook_imgs/services_tbl.png)\n",
    "### Customers Table\n",
    "![table_png.png](notebook_imgs/customers_tbl.png)\n",
    "### Churn Predictions Table\n",
    "![table_png.png](notebook_imgs/churn_tbl.png)\n",
    "### Billings Table\n",
    "![table_png.png](notebook_imgs/billing_tbl.png)"
   ]
  },
  {
   "cell_type": "markdown",
   "metadata": {},
   "source": [
    "## 2. Data Ingestion"
   ]
  },
  {
   "cell_type": "code",
   "execution_count": 27,
   "metadata": {},
   "outputs": [],
   "source": [
    "import pandas as pd\n",
    "\n",
    "raw_data = pd.read_csv('Raw_Data.csv')\n",
    "telco_customer_churn = pd.read_csv('TelcoCustomerChurn.csv')\n",
    "prediction_results = pd.read_csv('Prediction_Results.csv')"
   ]
  },
  {
   "cell_type": "code",
   "execution_count": 28,
   "metadata": {},
   "outputs": [],
   "source": [
    "def insert_data(table_name, dataframe):\n",
    "    for i, row in dataframe.iterrows():\n",
    "        placeholders = ', '.join(['%s'] * len(row))\n",
    "        columns = ', '.join(dataframe.columns)\n",
    "        sql = f\"INSERT INTO {table_name} ({columns}) VALUES ({placeholders})\"\n",
    "        cur.execute(sql, tuple(row))\n",
    "    conn.commit()"
   ]
  },
  {
   "cell_type": "markdown",
   "metadata": {},
   "source": [
    "### (i) Inserting into Customers Table"
   ]
  },
  {
   "cell_type": "code",
   "execution_count": 32,
   "metadata": {},
   "outputs": [
    {
     "name": "stderr",
     "output_type": "stream",
     "text": [
      "C:\\Users\\Asus\\AppData\\Local\\Temp\\ipykernel_6484\\3527777041.py:3: SettingWithCopyWarning: \n",
      "A value is trying to be set on a copy of a slice from a DataFrame.\n",
      "Try using .loc[row_indexer,col_indexer] = value instead\n",
      "\n",
      "See the caveats in the documentation: https://pandas.pydata.org/pandas-docs/stable/user_guide/indexing.html#returning-a-view-versus-a-copy\n",
      "  customers_data['senior_citizen'] = customers_data['senior_citizen'].astype(bool)  #Convert to boolean\n",
      "C:\\Users\\Asus\\AppData\\Local\\Temp\\ipykernel_6484\\3527777041.py:4: SettingWithCopyWarning: \n",
      "A value is trying to be set on a copy of a slice from a DataFrame.\n",
      "Try using .loc[row_indexer,col_indexer] = value instead\n",
      "\n",
      "See the caveats in the documentation: https://pandas.pydata.org/pandas-docs/stable/user_guide/indexing.html#returning-a-view-versus-a-copy\n",
      "  customers_data['partner'] = customers_data['partner'].map({'Yes': True, 'No': False})  #Convert to boolean\n",
      "C:\\Users\\Asus\\AppData\\Local\\Temp\\ipykernel_6484\\3527777041.py:5: SettingWithCopyWarning: \n",
      "A value is trying to be set on a copy of a slice from a DataFrame.\n",
      "Try using .loc[row_indexer,col_indexer] = value instead\n",
      "\n",
      "See the caveats in the documentation: https://pandas.pydata.org/pandas-docs/stable/user_guide/indexing.html#returning-a-view-versus-a-copy\n",
      "  customers_data['dependents'] = customers_data['dependents'].map({'Yes': True, 'No': False})  #Convert to boolean\n"
     ]
    }
   ],
   "source": [
    "customers_data = telco_customer_churn[['customerID', 'gender', 'SeniorCitizen', 'Partner', 'Dependents']]\n",
    "customers_data.columns = ['customer_id', 'gender', 'senior_citizen', 'partner', 'dependents']\n",
    "customers_data['senior_citizen'] = customers_data['senior_citizen'].astype(bool)  #Convert to boolean\n",
    "customers_data['partner'] = customers_data['partner'].map({'Yes': True, 'No': False})  #Convert to boolean\n",
    "customers_data['dependents'] = customers_data['dependents'].map({'Yes': True, 'No': False})  #Convert to boolean\n",
    "insert_data('customers', customers_data)"
   ]
  },
  {
   "cell_type": "markdown",
   "metadata": {},
   "source": [
    "![table_png.png](notebook_imgs/customers_filled.png)"
   ]
  },
  {
   "cell_type": "markdown",
   "metadata": {},
   "source": [
    "### (ii) Inserting into Services Table"
   ]
  },
  {
   "cell_type": "code",
   "execution_count": 33,
   "metadata": {},
   "outputs": [
    {
     "name": "stderr",
     "output_type": "stream",
     "text": [
      "C:\\Users\\Asus\\AppData\\Local\\Temp\\ipykernel_6484\\1937519431.py:3: FutureWarning: DataFrame.applymap has been deprecated. Use DataFrame.map instead.\n",
      "  services_data = services_data.applymap(lambda x: True if x == 'Yes' else False if x == 'No' else x)  # Convert 'Yes'/'No' to boolean\n"
     ]
    }
   ],
   "source": [
    "services_data = telco_customer_churn[['customerID', 'PhoneService', 'MultipleLines', 'InternetService', 'OnlineSecurity', 'OnlineBackup', 'DeviceProtection', 'TechSupport', 'StreamingTV', 'StreamingMovies']]\n",
    "services_data.columns = ['customer_id', 'phone_service', 'multiple_lines', 'internet_service', 'online_security', 'online_backup', 'device_protection', 'tech_support', 'streaming_tv', 'streaming_movies']\n",
    "services_data = services_data.applymap(lambda x: True if x == 'Yes' else False if x == 'No' else x)  #Convert 'Yes'/'No' to boolean\n",
    "insert_data('services', services_data)"
   ]
  },
  {
   "cell_type": "markdown",
   "metadata": {},
   "source": [
    "![table_png.png](notebook_imgs/services_filled.png)"
   ]
  },
  {
   "cell_type": "markdown",
   "metadata": {},
   "source": [
    "### (iii) Inserting into Billings Table"
   ]
  },
  {
   "cell_type": "code",
   "execution_count": 48,
   "metadata": {},
   "outputs": [
    {
     "name": "stderr",
     "output_type": "stream",
     "text": [
      "C:\\Users\\Asus\\AppData\\Local\\Temp\\ipykernel_6484\\381445300.py:3: SettingWithCopyWarning: \n",
      "A value is trying to be set on a copy of a slice from a DataFrame.\n",
      "Try using .loc[row_indexer,col_indexer] = value instead\n",
      "\n",
      "See the caveats in the documentation: https://pandas.pydata.org/pandas-docs/stable/user_guide/indexing.html#returning-a-view-versus-a-copy\n",
      "  billing_data['paperless_billing'] = billing_data['paperless_billing'].map({'Yes': True, 'No': False})  # Convert to boolean\n"
     ]
    }
   ],
   "source": [
    "billing_data = telco_customer_churn[['customerID', 'Contract', 'PaperlessBilling', 'PaymentMethod', 'MonthlyCharges', 'TotalCharges', 'tenure']]\n",
    "billing_data.columns = ['customer_id', 'contract', 'paperless_billing', 'payment_method', 'monthly_charges', 'total_charges', 'tenure']\n",
    "billing_data['paperless_billing'] = billing_data['paperless_billing'].map({'Yes': True, 'No': False})  # Convert to boolean\n",
    "insert_data('billing', billing_data)\n"
   ]
  },
  {
   "cell_type": "markdown",
   "metadata": {},
   "source": [
    "![table.png](notebook_imgs/billing_filled.png)"
   ]
  },
  {
   "cell_type": "markdown",
   "metadata": {},
   "source": [
    "### (iv) Inserting into Churn Predictions Table"
   ]
  },
  {
   "cell_type": "code",
   "execution_count": 45,
   "metadata": {},
   "outputs": [],
   "source": [
    "# Prepare and insert data into Churn_Predictions table\n",
    "prediction_data = prediction_results[['customerID', 'Churn']]\n",
    "prediction_data.columns = ['customer_id', 'churn_prediction']\n",
    "\n",
    "insert_data('churn_predictions', prediction_data)\n"
   ]
  },
  {
   "cell_type": "markdown",
   "metadata": {},
   "source": [
    "![](notebook_imgs/churn_filled.png)"
   ]
  },
  {
   "cell_type": "markdown",
   "metadata": {},
   "source": [
    "## 3. Querying the Data - Retrieving Customer Information Based on Various Criteria"
   ]
  },
  {
   "cell_type": "code",
   "execution_count": 6,
   "metadata": {},
   "outputs": [],
   "source": [
    "import pandas as pd"
   ]
  },
  {
   "cell_type": "markdown",
   "metadata": {},
   "source": [
    "### (i) Customers with tenure greater than x months"
   ]
  },
  {
   "cell_type": "markdown",
   "metadata": {},
   "source": [
    "- There are 2058 customers with less than a tenure of one year\n",
    "- There are 3105 customers with less than a tenure of two years\n",
    "- There are 3833 customers with a tenure of more than two years\n",
    "- Maximum tenure is of 72 months and there are 362 customers with this tenure\n",
    "- Minimum tenure is of 1 months and there are 613 customers with this tenure\n"
   ]
  },
  {
   "cell_type": "code",
   "execution_count": 59,
   "metadata": {},
   "outputs": [],
   "source": [
    "cur.execute(\"\"\"\n",
    "    SELECT * FROM Customers\n",
    "    WHERE customer_id IN (\n",
    "        SELECT customer_id FROM Billing\n",
    "        WHERE tenure > 12\n",
    "    );\n",
    "            \n",
    "\"\"\")"
   ]
  },
  {
   "cell_type": "code",
   "execution_count": 60,
   "metadata": {},
   "outputs": [
    {
     "data": {
      "text/html": [
       "<div>\n",
       "<style scoped>\n",
       "    .dataframe tbody tr th:only-of-type {\n",
       "        vertical-align: middle;\n",
       "    }\n",
       "\n",
       "    .dataframe tbody tr th {\n",
       "        vertical-align: top;\n",
       "    }\n",
       "\n",
       "    .dataframe thead th {\n",
       "        text-align: right;\n",
       "    }\n",
       "</style>\n",
       "<table border=\"1\" class=\"dataframe\">\n",
       "  <thead>\n",
       "    <tr style=\"text-align: right;\">\n",
       "      <th></th>\n",
       "      <th>customer_id</th>\n",
       "      <th>gender</th>\n",
       "      <th>senior_citizen</th>\n",
       "      <th>partner</th>\n",
       "      <th>dependents</th>\n",
       "    </tr>\n",
       "  </thead>\n",
       "  <tbody>\n",
       "    <tr>\n",
       "      <th>0</th>\n",
       "      <td>5575-GNVDE</td>\n",
       "      <td>Male</td>\n",
       "      <td>False</td>\n",
       "      <td>False</td>\n",
       "      <td>False</td>\n",
       "    </tr>\n",
       "    <tr>\n",
       "      <th>1</th>\n",
       "      <td>7795-CFOCW</td>\n",
       "      <td>Male</td>\n",
       "      <td>False</td>\n",
       "      <td>False</td>\n",
       "      <td>False</td>\n",
       "    </tr>\n",
       "    <tr>\n",
       "      <th>2</th>\n",
       "      <td>1452-KIOVK</td>\n",
       "      <td>Male</td>\n",
       "      <td>False</td>\n",
       "      <td>False</td>\n",
       "      <td>True</td>\n",
       "    </tr>\n",
       "    <tr>\n",
       "      <th>3</th>\n",
       "      <td>7892-POOKP</td>\n",
       "      <td>Female</td>\n",
       "      <td>False</td>\n",
       "      <td>True</td>\n",
       "      <td>False</td>\n",
       "    </tr>\n",
       "    <tr>\n",
       "      <th>4</th>\n",
       "      <td>6388-TABGU</td>\n",
       "      <td>Male</td>\n",
       "      <td>False</td>\n",
       "      <td>False</td>\n",
       "      <td>True</td>\n",
       "    </tr>\n",
       "    <tr>\n",
       "      <th>...</th>\n",
       "      <td>...</td>\n",
       "      <td>...</td>\n",
       "      <td>...</td>\n",
       "      <td>...</td>\n",
       "      <td>...</td>\n",
       "    </tr>\n",
       "    <tr>\n",
       "      <th>4852</th>\n",
       "      <td>8456-QDAVC</td>\n",
       "      <td>Male</td>\n",
       "      <td>False</td>\n",
       "      <td>False</td>\n",
       "      <td>False</td>\n",
       "    </tr>\n",
       "    <tr>\n",
       "      <th>4853</th>\n",
       "      <td>2569-WGERO</td>\n",
       "      <td>Female</td>\n",
       "      <td>False</td>\n",
       "      <td>False</td>\n",
       "      <td>False</td>\n",
       "    </tr>\n",
       "    <tr>\n",
       "      <th>4854</th>\n",
       "      <td>6840-RESVB</td>\n",
       "      <td>Male</td>\n",
       "      <td>False</td>\n",
       "      <td>True</td>\n",
       "      <td>True</td>\n",
       "    </tr>\n",
       "    <tr>\n",
       "      <th>4855</th>\n",
       "      <td>2234-XADUH</td>\n",
       "      <td>Female</td>\n",
       "      <td>False</td>\n",
       "      <td>True</td>\n",
       "      <td>True</td>\n",
       "    </tr>\n",
       "    <tr>\n",
       "      <th>4856</th>\n",
       "      <td>3186-AJIEK</td>\n",
       "      <td>Male</td>\n",
       "      <td>False</td>\n",
       "      <td>False</td>\n",
       "      <td>False</td>\n",
       "    </tr>\n",
       "  </tbody>\n",
       "</table>\n",
       "<p>4857 rows × 5 columns</p>\n",
       "</div>"
      ],
      "text/plain": [
       "     customer_id  gender  senior_citizen  partner  dependents\n",
       "0     5575-GNVDE    Male           False    False       False\n",
       "1     7795-CFOCW    Male           False    False       False\n",
       "2     1452-KIOVK    Male           False    False        True\n",
       "3     7892-POOKP  Female           False     True       False\n",
       "4     6388-TABGU    Male           False    False        True\n",
       "...          ...     ...             ...      ...         ...\n",
       "4852  8456-QDAVC    Male           False    False       False\n",
       "4853  2569-WGERO  Female           False    False       False\n",
       "4854  6840-RESVB    Male           False     True        True\n",
       "4855  2234-XADUH  Female           False     True        True\n",
       "4856  3186-AJIEK    Male           False    False       False\n",
       "\n",
       "[4857 rows x 5 columns]"
      ]
     },
     "execution_count": 60,
     "metadata": {},
     "output_type": "execute_result"
    }
   ],
   "source": [
    "rows = cur.fetchall()\n",
    "colnames = [desc[0] for desc in cur.description] #get column names from cursor\n",
    "\n",
    "display_df = pd.DataFrame(rows, columns=colnames)\n",
    "\n",
    "display_df\n"
   ]
  },
  {
   "cell_type": "markdown",
   "metadata": {},
   "source": [
    "### (ii) Customers with monthly charges greater than x"
   ]
  },
  {
   "cell_type": "markdown",
   "metadata": {},
   "source": [
    "- The lowest monthly charge is $18.25\n",
    "- The maximum monthly charge is $118.75\n",
    "- The average monthly charge is $64.7\n",
    "- There are 3130 customers with monthly charges less than $65 (Average)\n",
    "- There are 3897 customers with monthly charges greater than $65 (Average)\n"
   ]
  },
  {
   "cell_type": "code",
   "execution_count": 61,
   "metadata": {},
   "outputs": [],
   "source": [
    "cur.execute(\"\"\"\n",
    "    SELECT * FROM Customers\n",
    "    WHERE customer_id IN (\n",
    "    SELECT customer_id FROM Billing\n",
    "    WHERE monthly_charges > 50\n",
    ");\n",
    "\n",
    "\"\"\")"
   ]
  },
  {
   "cell_type": "code",
   "execution_count": 62,
   "metadata": {},
   "outputs": [
    {
     "data": {
      "text/html": [
       "<div>\n",
       "<style scoped>\n",
       "    .dataframe tbody tr th:only-of-type {\n",
       "        vertical-align: middle;\n",
       "    }\n",
       "\n",
       "    .dataframe tbody tr th {\n",
       "        vertical-align: top;\n",
       "    }\n",
       "\n",
       "    .dataframe thead th {\n",
       "        text-align: right;\n",
       "    }\n",
       "</style>\n",
       "<table border=\"1\" class=\"dataframe\">\n",
       "  <thead>\n",
       "    <tr style=\"text-align: right;\">\n",
       "      <th></th>\n",
       "      <th>customer_id</th>\n",
       "      <th>gender</th>\n",
       "      <th>senior_citizen</th>\n",
       "      <th>partner</th>\n",
       "      <th>dependents</th>\n",
       "    </tr>\n",
       "  </thead>\n",
       "  <tbody>\n",
       "    <tr>\n",
       "      <th>0</th>\n",
       "      <td>5575-GNVDE</td>\n",
       "      <td>Male</td>\n",
       "      <td>False</td>\n",
       "      <td>False</td>\n",
       "      <td>False</td>\n",
       "    </tr>\n",
       "    <tr>\n",
       "      <th>1</th>\n",
       "      <td>3668-QPYBK</td>\n",
       "      <td>Male</td>\n",
       "      <td>False</td>\n",
       "      <td>False</td>\n",
       "      <td>False</td>\n",
       "    </tr>\n",
       "    <tr>\n",
       "      <th>2</th>\n",
       "      <td>9237-HQITU</td>\n",
       "      <td>Female</td>\n",
       "      <td>False</td>\n",
       "      <td>False</td>\n",
       "      <td>False</td>\n",
       "    </tr>\n",
       "    <tr>\n",
       "      <th>3</th>\n",
       "      <td>9305-CDSKC</td>\n",
       "      <td>Female</td>\n",
       "      <td>False</td>\n",
       "      <td>False</td>\n",
       "      <td>False</td>\n",
       "    </tr>\n",
       "    <tr>\n",
       "      <th>4</th>\n",
       "      <td>1452-KIOVK</td>\n",
       "      <td>Male</td>\n",
       "      <td>False</td>\n",
       "      <td>False</td>\n",
       "      <td>True</td>\n",
       "    </tr>\n",
       "    <tr>\n",
       "      <th>...</th>\n",
       "      <td>...</td>\n",
       "      <td>...</td>\n",
       "      <td>...</td>\n",
       "      <td>...</td>\n",
       "      <td>...</td>\n",
       "    </tr>\n",
       "    <tr>\n",
       "      <th>4734</th>\n",
       "      <td>7750-EYXWZ</td>\n",
       "      <td>Female</td>\n",
       "      <td>False</td>\n",
       "      <td>False</td>\n",
       "      <td>False</td>\n",
       "    </tr>\n",
       "    <tr>\n",
       "      <th>4735</th>\n",
       "      <td>6840-RESVB</td>\n",
       "      <td>Male</td>\n",
       "      <td>False</td>\n",
       "      <td>True</td>\n",
       "      <td>True</td>\n",
       "    </tr>\n",
       "    <tr>\n",
       "      <th>4736</th>\n",
       "      <td>2234-XADUH</td>\n",
       "      <td>Female</td>\n",
       "      <td>False</td>\n",
       "      <td>True</td>\n",
       "      <td>True</td>\n",
       "    </tr>\n",
       "    <tr>\n",
       "      <th>4737</th>\n",
       "      <td>8361-LTMKD</td>\n",
       "      <td>Male</td>\n",
       "      <td>True</td>\n",
       "      <td>True</td>\n",
       "      <td>False</td>\n",
       "    </tr>\n",
       "    <tr>\n",
       "      <th>4738</th>\n",
       "      <td>3186-AJIEK</td>\n",
       "      <td>Male</td>\n",
       "      <td>False</td>\n",
       "      <td>False</td>\n",
       "      <td>False</td>\n",
       "    </tr>\n",
       "  </tbody>\n",
       "</table>\n",
       "<p>4739 rows × 5 columns</p>\n",
       "</div>"
      ],
      "text/plain": [
       "     customer_id  gender  senior_citizen  partner  dependents\n",
       "0     5575-GNVDE    Male           False    False       False\n",
       "1     3668-QPYBK    Male           False    False       False\n",
       "2     9237-HQITU  Female           False    False       False\n",
       "3     9305-CDSKC  Female           False    False       False\n",
       "4     1452-KIOVK    Male           False    False        True\n",
       "...          ...     ...             ...      ...         ...\n",
       "4734  7750-EYXWZ  Female           False    False       False\n",
       "4735  6840-RESVB    Male           False     True        True\n",
       "4736  2234-XADUH  Female           False     True        True\n",
       "4737  8361-LTMKD    Male            True     True       False\n",
       "4738  3186-AJIEK    Male           False    False       False\n",
       "\n",
       "[4739 rows x 5 columns]"
      ]
     },
     "execution_count": 62,
     "metadata": {},
     "output_type": "execute_result"
    }
   ],
   "source": [
    "rows = cur.fetchall()\n",
    "colnames = [desc[0] for desc in cur.description] #get column names from cursor\n",
    "\n",
    "display_df = pd.DataFrame(rows, columns=colnames)\n",
    "\n",
    "display_df"
   ]
  },
  {
   "cell_type": "markdown",
   "metadata": {},
   "source": [
    "### (iii) Customers with a specific contract type\n",
    "\n"
   ]
  },
  {
   "cell_type": "markdown",
   "metadata": {},
   "source": [
    "- There are 3875 customers who opted for a Month-to-Month contract type\n",
    "- There are 1472 customers who opted for a One Year contract type\n",
    "- There are 1685 customers who opted for a Two Year contract type"
   ]
  },
  {
   "cell_type": "code",
   "execution_count": 8,
   "metadata": {},
   "outputs": [],
   "source": [
    "cur.execute(\"\"\"\n",
    "    SELECT * FROM Customers\n",
    "    WHERE customer_id IN (\n",
    "    SELECT customer_id FROM Billing\n",
    "    WHERE contract = 'Month-to-month'\n",
    ");\n",
    "\n",
    "\"\"\")"
   ]
  },
  {
   "cell_type": "code",
   "execution_count": 9,
   "metadata": {},
   "outputs": [
    {
     "data": {
      "text/html": [
       "<div>\n",
       "<style scoped>\n",
       "    .dataframe tbody tr th:only-of-type {\n",
       "        vertical-align: middle;\n",
       "    }\n",
       "\n",
       "    .dataframe tbody tr th {\n",
       "        vertical-align: top;\n",
       "    }\n",
       "\n",
       "    .dataframe thead th {\n",
       "        text-align: right;\n",
       "    }\n",
       "</style>\n",
       "<table border=\"1\" class=\"dataframe\">\n",
       "  <thead>\n",
       "    <tr style=\"text-align: right;\">\n",
       "      <th></th>\n",
       "      <th>customer_id</th>\n",
       "      <th>gender</th>\n",
       "      <th>senior_citizen</th>\n",
       "      <th>partner</th>\n",
       "      <th>dependents</th>\n",
       "    </tr>\n",
       "  </thead>\n",
       "  <tbody>\n",
       "    <tr>\n",
       "      <th>0</th>\n",
       "      <td>7590-VHVEG</td>\n",
       "      <td>Female</td>\n",
       "      <td>False</td>\n",
       "      <td>True</td>\n",
       "      <td>False</td>\n",
       "    </tr>\n",
       "    <tr>\n",
       "      <th>1</th>\n",
       "      <td>3668-QPYBK</td>\n",
       "      <td>Male</td>\n",
       "      <td>False</td>\n",
       "      <td>False</td>\n",
       "      <td>False</td>\n",
       "    </tr>\n",
       "    <tr>\n",
       "      <th>2</th>\n",
       "      <td>9237-HQITU</td>\n",
       "      <td>Female</td>\n",
       "      <td>False</td>\n",
       "      <td>False</td>\n",
       "      <td>False</td>\n",
       "    </tr>\n",
       "    <tr>\n",
       "      <th>3</th>\n",
       "      <td>9305-CDSKC</td>\n",
       "      <td>Female</td>\n",
       "      <td>False</td>\n",
       "      <td>False</td>\n",
       "      <td>False</td>\n",
       "    </tr>\n",
       "    <tr>\n",
       "      <th>4</th>\n",
       "      <td>1452-KIOVK</td>\n",
       "      <td>Male</td>\n",
       "      <td>False</td>\n",
       "      <td>False</td>\n",
       "      <td>True</td>\n",
       "    </tr>\n",
       "    <tr>\n",
       "      <th>...</th>\n",
       "      <td>...</td>\n",
       "      <td>...</td>\n",
       "      <td>...</td>\n",
       "      <td>...</td>\n",
       "      <td>...</td>\n",
       "    </tr>\n",
       "    <tr>\n",
       "      <th>3870</th>\n",
       "      <td>9767-FFLEM</td>\n",
       "      <td>Male</td>\n",
       "      <td>False</td>\n",
       "      <td>False</td>\n",
       "      <td>False</td>\n",
       "    </tr>\n",
       "    <tr>\n",
       "      <th>3871</th>\n",
       "      <td>0639-TSIQW</td>\n",
       "      <td>Female</td>\n",
       "      <td>False</td>\n",
       "      <td>False</td>\n",
       "      <td>False</td>\n",
       "    </tr>\n",
       "    <tr>\n",
       "      <th>3872</th>\n",
       "      <td>8456-QDAVC</td>\n",
       "      <td>Male</td>\n",
       "      <td>False</td>\n",
       "      <td>False</td>\n",
       "      <td>False</td>\n",
       "    </tr>\n",
       "    <tr>\n",
       "      <th>3873</th>\n",
       "      <td>4801-JZAZL</td>\n",
       "      <td>Female</td>\n",
       "      <td>False</td>\n",
       "      <td>True</td>\n",
       "      <td>True</td>\n",
       "    </tr>\n",
       "    <tr>\n",
       "      <th>3874</th>\n",
       "      <td>8361-LTMKD</td>\n",
       "      <td>Male</td>\n",
       "      <td>True</td>\n",
       "      <td>True</td>\n",
       "      <td>False</td>\n",
       "    </tr>\n",
       "  </tbody>\n",
       "</table>\n",
       "<p>3875 rows × 5 columns</p>\n",
       "</div>"
      ],
      "text/plain": [
       "     customer_id  gender  senior_citizen  partner  dependents\n",
       "0     7590-VHVEG  Female           False     True       False\n",
       "1     3668-QPYBK    Male           False    False       False\n",
       "2     9237-HQITU  Female           False    False       False\n",
       "3     9305-CDSKC  Female           False    False       False\n",
       "4     1452-KIOVK    Male           False    False        True\n",
       "...          ...     ...             ...      ...         ...\n",
       "3870  9767-FFLEM    Male           False    False       False\n",
       "3871  0639-TSIQW  Female           False    False       False\n",
       "3872  8456-QDAVC    Male           False    False       False\n",
       "3873  4801-JZAZL  Female           False     True        True\n",
       "3874  8361-LTMKD    Male            True     True       False\n",
       "\n",
       "[3875 rows x 5 columns]"
      ]
     },
     "execution_count": 9,
     "metadata": {},
     "output_type": "execute_result"
    }
   ],
   "source": [
    "rows = cur.fetchall()\n",
    "colnames = [desc[0] for desc in cur.description] #get column names from cursor\n",
    "\n",
    "display_df = pd.DataFrame(rows, columns=colnames)\n",
    "\n",
    "display_df"
   ]
  },
  {
   "cell_type": "markdown",
   "metadata": {},
   "source": [
    "### (iv) Some more general information (Summary Reports)"
   ]
  },
  {
   "cell_type": "code",
   "execution_count": 19,
   "metadata": {},
   "outputs": [],
   "source": [
    "cur.execute(\"\"\"\n",
    "    SELECT COUNT(*) AS total_customers FROM Customers;\n",
    "\"\"\")"
   ]
  },
  {
   "cell_type": "markdown",
   "metadata": {},
   "source": [
    "Total Number of Customers: 7032"
   ]
  },
  {
   "cell_type": "code",
   "execution_count": 22,
   "metadata": {},
   "outputs": [],
   "source": [
    "cur.execute(\"\"\"\n",
    "    SELECT AVG(tenure) AS average_tenure FROM Billing;\n",
    "\"\"\")"
   ]
  },
  {
   "cell_type": "markdown",
   "metadata": {},
   "source": [
    "The Average Tenure is approx. 32 months"
   ]
  },
  {
   "cell_type": "code",
   "execution_count": 23,
   "metadata": {},
   "outputs": [],
   "source": [
    "cur.execute(\"\"\"\n",
    "    SELECT SUM(monthly_charges * tenure) AS total_revenue FROM Billing;\n",
    "\"\"\")"
   ]
  },
  {
   "cell_type": "markdown",
   "metadata": {},
   "source": [
    "Total Revenue generated is $16,055,091.45"
   ]
  },
  {
   "cell_type": "code",
   "execution_count": 32,
   "metadata": {},
   "outputs": [],
   "source": [
    "cur.execute(\"\"\"\n",
    "    SELECT COUNT(*) AS churned_customers\n",
    "    FROM churn_predictions\n",
    "    WHERE churn_prediction = TRUE;\n",
    "\"\"\")"
   ]
  },
  {
   "cell_type": "markdown",
   "metadata": {},
   "source": [
    "Number of predicted customers who have churned is 470"
   ]
  },
  {
   "cell_type": "code",
   "execution_count": 25,
   "metadata": {},
   "outputs": [],
   "source": [
    "cur.execute(\"\"\"\n",
    "    SELECT b.contract, COUNT(cp.customer_id) AS churned_customers\n",
    "    FROM Billing b\n",
    "    JOIN Churn_Predictions cp ON b.customer_id = cp.customer_id\n",
    "    WHERE cp.churn_prediction = TRUE\n",
    "    GROUP BY b.contract;\n",
    "\n",
    "\"\"\")"
   ]
  },
  {
   "cell_type": "markdown",
   "metadata": {},
   "source": [
    "All of the predicted churned customers had a Month-to-Month contract type"
   ]
  },
  {
   "cell_type": "code",
   "execution_count": 26,
   "metadata": {},
   "outputs": [],
   "source": [
    "cur.execute(\"\"\"\n",
    "    SELECT \n",
    "    AVG(B.monthly_charges) AS average_monthly_charges_churned\n",
    "    FROM Churn_Predictions AS CP\n",
    "    JOIN Billing AS B ON CP.customer_id = B.customer_id\n",
    "    WHERE CP.churn_prediction = TRUE;\n",
    "\n",
    "\"\"\")"
   ]
  },
  {
   "cell_type": "markdown",
   "metadata": {},
   "source": [
    "Predicted customers who Churn have a average monthly charge of $81.37"
   ]
  },
  {
   "cell_type": "code",
   "execution_count": null,
   "metadata": {},
   "outputs": [],
   "source": [
    "cur.execute(\"\"\"\n",
    "    SELECT \n",
    "    S.internet_service, COUNT(*) AS count\n",
    "    FROM Churn_Predictions AS CP\n",
    "    JOIN Services AS S ON CP.customer_id = S.customer_id\n",
    "    WHERE CP.churn_prediction = TRUE\n",
    "    GROUP BY S.internet_service;\n",
    "\n",
    "\"\"\")"
   ]
  },
  {
   "cell_type": "markdown",
   "metadata": {},
   "source": [
    "- 428 of the predicted churn customers had Fiber Optic\n",
    "- 42 of the predicted churn customers had Fiber Optic"
   ]
  },
  {
   "cell_type": "code",
   "execution_count": 27,
   "metadata": {},
   "outputs": [],
   "source": [
    "cur.execute(\"\"\"\n",
    "    SELECT \n",
    "    B.payment_method, COUNT(*) AS count\n",
    "    FROM Churn_Predictions AS CP\n",
    "    JOIN Billing AS B ON CP.customer_id = B.customer_id\n",
    "    WHERE CP.churn_prediction = TRUE\n",
    "    GROUP BY B.payment_method;\n",
    "\n",
    "\"\"\")"
   ]
  },
  {
   "cell_type": "markdown",
   "metadata": {},
   "source": [
    "- 344 of the predicted Churned customers used Electronic Checks as their payment method\n",
    "- 47 of the predicted Churned customers used Mailed Checks as their payment method\n",
    "- 34 of the predicted Churned customers used Credit Card as their payment method\n",
    "- 45 of the predicted Churned customers used Bank transfer as their payment method"
   ]
  },
  {
   "cell_type": "code",
   "execution_count": null,
   "metadata": {},
   "outputs": [],
   "source": []
  },
  {
   "cell_type": "markdown",
   "metadata": {},
   "source": [
    "## 4. Storing Predictions"
   ]
  },
  {
   "cell_type": "markdown",
   "metadata": {},
   "source": [
    "Lets assume we have a predictions dataframe (which we have gotten from running the pickle file on test dataset split and storing them into a df). \n"
   ]
  },
  {
   "cell_type": "markdown",
   "metadata": {},
   "source": [
    "NOTE: Since the customer_id field is referencing (foreign key) customer_id in Customers table, we need to ensure that the customerIDs here in the dataframe are also in that table!"
   ]
  },
  {
   "cell_type": "code",
   "execution_count": 44,
   "metadata": {},
   "outputs": [],
   "source": [
    "predictions_df = pd.DataFrame({\n",
    "    'customerID': ['7590-VHVEG', '5575-GNVDE', '3668-QPYBK'],\n",
    "    'Churn': [True, False, True]\n",
    "})"
   ]
  },
  {
   "cell_type": "markdown",
   "metadata": {},
   "source": [
    "Now we can create a cell block or a function which stores the dataframe into our churn_predictions table"
   ]
  },
  {
   "cell_type": "code",
   "execution_count": 45,
   "metadata": {},
   "outputs": [],
   "source": [
    "insert_query = \"\"\"INSERT INTO Churn_Predictions (customer_id, churn_prediction) VALUES (%s, %s)\"\"\"\n",
    "\n",
    "for i, row in predictions_df.iterrows():\n",
    "    cur.execute(insert_query, (row['customerID'], row['Churn']))"
   ]
  },
  {
   "cell_type": "markdown",
   "metadata": {},
   "source": [
    "![](notebook_imgs/insert_query.png)"
   ]
  },
  {
   "cell_type": "markdown",
   "metadata": {},
   "source": [
    "## 5. Advanced SQL Analysis"
   ]
  },
  {
   "cell_type": "markdown",
   "metadata": {},
   "source": [
    "Please look at the Summary Reports in the 3rd section of this notebook for detailed queries that drive insights related to customer churn"
   ]
  },
  {
   "cell_type": "markdown",
   "metadata": {},
   "source": [
    "### Running Total \n",
    "A running total (also known as a cumulative sum) is the sum of a sequence of numbers that is updated each time a new number is added to the sequence. It gives the total at each point in the sequence."
   ]
  },
  {
   "cell_type": "code",
   "execution_count": 47,
   "metadata": {},
   "outputs": [],
   "source": [
    "cur.execute(\"\"\"\n",
    "    SELECT B.customer_id, B.monthly_charges,\n",
    "    SUM(B.monthly_charges) OVER (ORDER BY B.customer_id ROWS BETWEEN UNBOUNDED PRECEDING AND CURRENT ROW) AS running_total\n",
    "    \n",
    "    FROM Billing B;\n",
    "       \n",
    "\"\"\")"
   ]
  },
  {
   "cell_type": "code",
   "execution_count": 48,
   "metadata": {},
   "outputs": [
    {
     "data": {
      "text/html": [
       "<div>\n",
       "<style scoped>\n",
       "    .dataframe tbody tr th:only-of-type {\n",
       "        vertical-align: middle;\n",
       "    }\n",
       "\n",
       "    .dataframe tbody tr th {\n",
       "        vertical-align: top;\n",
       "    }\n",
       "\n",
       "    .dataframe thead th {\n",
       "        text-align: right;\n",
       "    }\n",
       "</style>\n",
       "<table border=\"1\" class=\"dataframe\">\n",
       "  <thead>\n",
       "    <tr style=\"text-align: right;\">\n",
       "      <th></th>\n",
       "      <th>customer_id</th>\n",
       "      <th>monthly_charges</th>\n",
       "      <th>running_total</th>\n",
       "    </tr>\n",
       "  </thead>\n",
       "  <tbody>\n",
       "    <tr>\n",
       "      <th>0</th>\n",
       "      <td>0002-ORFBO</td>\n",
       "      <td>65.6</td>\n",
       "      <td>65.6</td>\n",
       "    </tr>\n",
       "    <tr>\n",
       "      <th>1</th>\n",
       "      <td>0003-MKNFE</td>\n",
       "      <td>59.9</td>\n",
       "      <td>125.5</td>\n",
       "    </tr>\n",
       "    <tr>\n",
       "      <th>2</th>\n",
       "      <td>0004-TLHLJ</td>\n",
       "      <td>73.9</td>\n",
       "      <td>199.4</td>\n",
       "    </tr>\n",
       "    <tr>\n",
       "      <th>3</th>\n",
       "      <td>0011-IGKFF</td>\n",
       "      <td>98.0</td>\n",
       "      <td>297.4</td>\n",
       "    </tr>\n",
       "    <tr>\n",
       "      <th>4</th>\n",
       "      <td>0013-EXCHZ</td>\n",
       "      <td>83.9</td>\n",
       "      <td>381.3</td>\n",
       "    </tr>\n",
       "    <tr>\n",
       "      <th>...</th>\n",
       "      <td>...</td>\n",
       "      <td>...</td>\n",
       "      <td>...</td>\n",
       "    </tr>\n",
       "    <tr>\n",
       "      <th>7027</th>\n",
       "      <td>9987-LUTYD</td>\n",
       "      <td>55.15</td>\n",
       "      <td>455398.75</td>\n",
       "    </tr>\n",
       "    <tr>\n",
       "      <th>7028</th>\n",
       "      <td>9992-RRAMN</td>\n",
       "      <td>85.1</td>\n",
       "      <td>455483.85</td>\n",
       "    </tr>\n",
       "    <tr>\n",
       "      <th>7029</th>\n",
       "      <td>9992-UJOEL</td>\n",
       "      <td>50.3</td>\n",
       "      <td>455534.15</td>\n",
       "    </tr>\n",
       "    <tr>\n",
       "      <th>7030</th>\n",
       "      <td>9993-LHIEB</td>\n",
       "      <td>67.85</td>\n",
       "      <td>455602.00</td>\n",
       "    </tr>\n",
       "    <tr>\n",
       "      <th>7031</th>\n",
       "      <td>9995-HOTOH</td>\n",
       "      <td>59.0</td>\n",
       "      <td>455661.00</td>\n",
       "    </tr>\n",
       "  </tbody>\n",
       "</table>\n",
       "<p>7032 rows × 3 columns</p>\n",
       "</div>"
      ],
      "text/plain": [
       "     customer_id monthly_charges running_total\n",
       "0     0002-ORFBO            65.6          65.6\n",
       "1     0003-MKNFE            59.9         125.5\n",
       "2     0004-TLHLJ            73.9         199.4\n",
       "3     0011-IGKFF            98.0         297.4\n",
       "4     0013-EXCHZ            83.9         381.3\n",
       "...          ...             ...           ...\n",
       "7027  9987-LUTYD           55.15     455398.75\n",
       "7028  9992-RRAMN            85.1     455483.85\n",
       "7029  9992-UJOEL            50.3     455534.15\n",
       "7030  9993-LHIEB           67.85     455602.00\n",
       "7031  9995-HOTOH            59.0     455661.00\n",
       "\n",
       "[7032 rows x 3 columns]"
      ]
     },
     "execution_count": 48,
     "metadata": {},
     "output_type": "execute_result"
    }
   ],
   "source": [
    "rows = cur.fetchall()\n",
    "colnames = [desc[0] for desc in cur.description] #get column names from cursor\n",
    "\n",
    "display_df = pd.DataFrame(rows, columns=colnames)\n",
    "\n",
    "display_df\n"
   ]
  },
  {
   "cell_type": "markdown",
   "metadata": {},
   "source": [
    "![](notebook_imgs/running_total.png)"
   ]
  },
  {
   "cell_type": "markdown",
   "metadata": {},
   "source": [
    "### Moving Average\n",
    "A moving average (also known as a rolling average) smooths out data by creating an average of different subsets of the full data set. It’s useful for identifying trends over time by filtering out short-term fluctuations."
   ]
  },
  {
   "cell_type": "code",
   "execution_count": 49,
   "metadata": {},
   "outputs": [],
   "source": [
    "cur.execute(\"\"\"\n",
    "    SELECT B.customer_id, B.monthly_charges,\n",
    "    AVG(B.monthly_charges) OVER (ORDER BY B.customer_id ROWS BETWEEN 2 PRECEDING AND CURRENT ROW) AS moving_average\n",
    "    \n",
    "    FROM Billing B;\n",
    " \n",
    "\"\"\")"
   ]
  },
  {
   "cell_type": "code",
   "execution_count": 50,
   "metadata": {},
   "outputs": [
    {
     "data": {
      "text/html": [
       "<div>\n",
       "<style scoped>\n",
       "    .dataframe tbody tr th:only-of-type {\n",
       "        vertical-align: middle;\n",
       "    }\n",
       "\n",
       "    .dataframe tbody tr th {\n",
       "        vertical-align: top;\n",
       "    }\n",
       "\n",
       "    .dataframe thead th {\n",
       "        text-align: right;\n",
       "    }\n",
       "</style>\n",
       "<table border=\"1\" class=\"dataframe\">\n",
       "  <thead>\n",
       "    <tr style=\"text-align: right;\">\n",
       "      <th></th>\n",
       "      <th>customer_id</th>\n",
       "      <th>monthly_charges</th>\n",
       "      <th>moving_average</th>\n",
       "    </tr>\n",
       "  </thead>\n",
       "  <tbody>\n",
       "    <tr>\n",
       "      <th>0</th>\n",
       "      <td>0002-ORFBO</td>\n",
       "      <td>65.6</td>\n",
       "      <td>65.6000000000000000</td>\n",
       "    </tr>\n",
       "    <tr>\n",
       "      <th>1</th>\n",
       "      <td>0003-MKNFE</td>\n",
       "      <td>59.9</td>\n",
       "      <td>62.7500000000000000</td>\n",
       "    </tr>\n",
       "    <tr>\n",
       "      <th>2</th>\n",
       "      <td>0004-TLHLJ</td>\n",
       "      <td>73.9</td>\n",
       "      <td>66.4666666666666667</td>\n",
       "    </tr>\n",
       "    <tr>\n",
       "      <th>3</th>\n",
       "      <td>0011-IGKFF</td>\n",
       "      <td>98.0</td>\n",
       "      <td>77.2666666666666667</td>\n",
       "    </tr>\n",
       "    <tr>\n",
       "      <th>4</th>\n",
       "      <td>0013-EXCHZ</td>\n",
       "      <td>83.9</td>\n",
       "      <td>85.2666666666666667</td>\n",
       "    </tr>\n",
       "    <tr>\n",
       "      <th>...</th>\n",
       "      <td>...</td>\n",
       "      <td>...</td>\n",
       "      <td>...</td>\n",
       "    </tr>\n",
       "    <tr>\n",
       "      <th>7027</th>\n",
       "      <td>9987-LUTYD</td>\n",
       "      <td>55.15</td>\n",
       "      <td>48.7500000000000000</td>\n",
       "    </tr>\n",
       "    <tr>\n",
       "      <th>7028</th>\n",
       "      <td>9992-RRAMN</td>\n",
       "      <td>85.1</td>\n",
       "      <td>53.7333333333333333</td>\n",
       "    </tr>\n",
       "    <tr>\n",
       "      <th>7029</th>\n",
       "      <td>9992-UJOEL</td>\n",
       "      <td>50.3</td>\n",
       "      <td>63.5166666666666667</td>\n",
       "    </tr>\n",
       "    <tr>\n",
       "      <th>7030</th>\n",
       "      <td>9993-LHIEB</td>\n",
       "      <td>67.85</td>\n",
       "      <td>67.7500000000000000</td>\n",
       "    </tr>\n",
       "    <tr>\n",
       "      <th>7031</th>\n",
       "      <td>9995-HOTOH</td>\n",
       "      <td>59.0</td>\n",
       "      <td>59.0500000000000000</td>\n",
       "    </tr>\n",
       "  </tbody>\n",
       "</table>\n",
       "<p>7032 rows × 3 columns</p>\n",
       "</div>"
      ],
      "text/plain": [
       "     customer_id monthly_charges       moving_average\n",
       "0     0002-ORFBO            65.6  65.6000000000000000\n",
       "1     0003-MKNFE            59.9  62.7500000000000000\n",
       "2     0004-TLHLJ            73.9  66.4666666666666667\n",
       "3     0011-IGKFF            98.0  77.2666666666666667\n",
       "4     0013-EXCHZ            83.9  85.2666666666666667\n",
       "...          ...             ...                  ...\n",
       "7027  9987-LUTYD           55.15  48.7500000000000000\n",
       "7028  9992-RRAMN            85.1  53.7333333333333333\n",
       "7029  9992-UJOEL            50.3  63.5166666666666667\n",
       "7030  9993-LHIEB           67.85  67.7500000000000000\n",
       "7031  9995-HOTOH            59.0  59.0500000000000000\n",
       "\n",
       "[7032 rows x 3 columns]"
      ]
     },
     "execution_count": 50,
     "metadata": {},
     "output_type": "execute_result"
    }
   ],
   "source": [
    "rows = cur.fetchall()\n",
    "colnames = [desc[0] for desc in cur.description] #get column names from cursor\n",
    "\n",
    "display_df = pd.DataFrame(rows, columns=colnames)\n",
    "\n",
    "display_df\n"
   ]
  },
  {
   "cell_type": "markdown",
   "metadata": {},
   "source": [
    "![](notebook_imgs/moving_averages.png)"
   ]
  },
  {
   "cell_type": "markdown",
   "metadata": {},
   "source": [
    "## 6. Committing and Closing connection"
   ]
  },
  {
   "cell_type": "code",
   "execution_count": 40,
   "metadata": {},
   "outputs": [],
   "source": [
    "cur.execute(\"ROLLBACK;\")\n"
   ]
  },
  {
   "cell_type": "code",
   "execution_count": 46,
   "metadata": {},
   "outputs": [],
   "source": [
    "conn.commit()"
   ]
  },
  {
   "cell_type": "code",
   "execution_count": null,
   "metadata": {},
   "outputs": [],
   "source": [
    "cur.close()\n",
    "conn.close()"
   ]
  }
 ],
 "metadata": {
  "kernelspec": {
   "display_name": "Python 3",
   "language": "python",
   "name": "python3"
  },
  "language_info": {
   "codemirror_mode": {
    "name": "ipython",
    "version": 3
   },
   "file_extension": ".py",
   "mimetype": "text/x-python",
   "name": "python",
   "nbconvert_exporter": "python",
   "pygments_lexer": "ipython3",
   "version": "3.9.0"
  }
 },
 "nbformat": 4,
 "nbformat_minor": 2
}
