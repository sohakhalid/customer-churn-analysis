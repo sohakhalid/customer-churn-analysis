{
 "cells": [
  {
   "cell_type": "markdown",
   "metadata": {},
   "source": [
    "![](../MISC/unnamed_1.png)"
   ]
  },
  {
   "cell_type": "markdown",
   "metadata": {},
   "source": [
    "# Analysing Customer Churn Data - Predicting Behavior to Retain Customers\n",
    "\n"
   ]
  },
  {
   "cell_type": "markdown",
   "metadata": {},
   "source": [
    "Rayyan Minhaj (Data Science Intern - 10Pearls)"
   ]
  },
  {
   "cell_type": "markdown",
   "metadata": {},
   "source": [
    "---"
   ]
  },
  {
   "cell_type": "markdown",
   "metadata": {},
   "source": [
    "## Module 4: Model Deployment, API Endpoints, and Testing\n",
    "Deploy the trained model using Flask and create APIs to consume the models predictions"
   ]
  },
  {
   "cell_type": "markdown",
   "metadata": {},
   "source": [
    "## 1. Flask Setup and Folder Structure"
   ]
  },
  {
   "cell_type": "code",
   "execution_count": null,
   "metadata": {},
   "outputs": [],
   "source": [
    "pip install Flask"
   ]
  },
  {
   "cell_type": "markdown",
   "metadata": {},
   "source": [
    "telco_churn/\n",
    "- models/\n",
    "    - lr_model.pkl\n",
    "    - dt_model.pkl\n",
    "    - rf_model.pkl\n",
    "    - gb_model.pkl\n",
    "    - svm_model.pkl\n",
    "- static/\n",
    "- templates/\n",
    "    - index.html\n",
    "- app.py\n",
    "- streamlit_app.py\n",
    "- Raw_Data.csv\n",
    "- requirements.txt\n"
   ]
  },
  {
   "cell_type": "markdown",
   "metadata": {},
   "source": [
    "Even though there is an index.html, I will be hosting the frontend on streamlit for a unified simple frontend/UI"
   ]
  },
  {
   "cell_type": "markdown",
   "metadata": {},
   "source": [
    "## 2. Model Integration"
   ]
  },
  {
   "cell_type": "markdown",
   "metadata": {},
   "source": [
    "This section will be found in the app.py & the streamlit_app.py files in telco_churn/ folder"
   ]
  },
  {
   "cell_type": "markdown",
   "metadata": {},
   "source": [
    "- python app.py\n",
    "- streamlit run streamlit_app.py"
   ]
  },
  {
   "cell_type": "markdown",
   "metadata": {},
   "source": [
    "## 3. API Development"
   ]
  },
  {
   "cell_type": "markdown",
   "metadata": {},
   "source": [
    "API Endpoints:\n",
    "- /predict: For receiving input data and returning predictions.\n",
    "- /health: For checking the status of the API."
   ]
  },
  {
   "cell_type": "markdown",
   "metadata": {},
   "source": [
    "![](../MISC/predict_endpoint.png)"
   ]
  },
  {
   "cell_type": "markdown",
   "metadata": {},
   "source": [
    "![](../MISC/health_endpoint.png)"
   ]
  },
  {
   "cell_type": "markdown",
   "metadata": {},
   "source": [
    "## 4. Testing and Validation"
   ]
  },
  {
   "cell_type": "markdown",
   "metadata": {},
   "source": [
    "### Homepage"
   ]
  },
  {
   "cell_type": "markdown",
   "metadata": {},
   "source": [
    "![](../MISC/homepage.png)"
   ]
  },
  {
   "cell_type": "markdown",
   "metadata": {},
   "source": [
    "### Sample \"Not Churn\" prediction"
   ]
  },
  {
   "cell_type": "markdown",
   "metadata": {},
   "source": [
    "![](../MISC/notchurn.png)"
   ]
  },
  {
   "cell_type": "markdown",
   "metadata": {},
   "source": [
    "### Health API check\n"
   ]
  },
  {
   "cell_type": "markdown",
   "metadata": {},
   "source": [
    "![](../MISC/health_check.png)"
   ]
  },
  {
   "cell_type": "markdown",
   "metadata": {},
   "source": [
    "### Checking Prediction API endpoint using Postman"
   ]
  },
  {
   "cell_type": "code",
   "execution_count": null,
   "metadata": {},
   "outputs": [],
   "source": [
    "{\n",
    "  \"model_index\": 0,\n",
    "  \"features\": [1, 29.85, 29.85, 0, 1, 1, 0, 1, 0, 0, 1, 1, 0, 1, 0, 0, 0, 1, 0, 1, 1, 0, 0, 1, 0, 1, 0, 1, 0, 1, 0, 1, 0, 1, 0, 1, 0, 1, 0]\n",
    "}\n"
   ]
  },
  {
   "cell_type": "markdown",
   "metadata": {},
   "source": [
    "![](../MISC/postman.png)"
   ]
  },
  {
   "cell_type": "markdown",
   "metadata": {},
   "source": [
    "### Checking Health API endpoint using Postman"
   ]
  },
  {
   "cell_type": "markdown",
   "metadata": {},
   "source": [
    "![](../MISC/postman_healthAPI.png)"
   ]
  },
  {
   "cell_type": "code",
   "execution_count": null,
   "metadata": {},
   "outputs": [],
   "source": []
  },
  {
   "cell_type": "markdown",
   "metadata": {},
   "source": [
    "## 5. Documenting API Endpoint Usage"
   ]
  },
  {
   "cell_type": "markdown",
   "metadata": {},
   "source": [
    "This API allows users to predict whether a customer will churn based on various features related to the customer's account and service usage. The prediction is made using one of several machine learning models.\n"
   ]
  },
  {
   "cell_type": "markdown",
   "metadata": {},
   "source": [
    "### Base URL\n",
    "http://127.0.0.1:5000"
   ]
  },
  {
   "cell_type": "markdown",
   "metadata": {},
   "source": [
    "### Endpoints:\n",
    "### Health Check\n",
    "### `GET /health`\n",
    "This endpoint is used to check if the API is running.\n",
    "* **Request** GET /health\n",
    "* **Response**:\n",
    "    * **Status Code:** 200 OK\n",
    "    * **Body:** `API is running` \n",
    "* **Example** \n",
    "    * GET /health HTTP/1.1\n",
    "    * Host: 127.0.0.1:5000\n",
    "    * **Response:** 'API is running' \n",
    "\n"
   ]
  },
  {
   "cell_type": "markdown",
   "metadata": {},
   "source": [
    "### Predict Churn\n",
    "\n",
    "#### `POST /predict`\n",
    "\n",
    "This endpoint is used to predict whether a customer will churn based on the input features and selected model.\n",
    "\n",
    "**Request:**\n",
    "\n",
    "- **Method:** POST\n",
    "- **URL:** `/predict`\n",
    "- **Headers:** \n",
    "  - `Content-Type: application/json`\n",
    "- **Body:**\n",
    "  - `model_index`: (integer) Index of the model to use (0: Linear Regression, 1: Decision Trees, 2: Random Forest, 3: Gradient Boosting, 4: SVM)\n",
    "  - `features`: (array) Array of feature values in the correct order\n",
    "\n",
    "**Example Request Body:**\n",
    "\n",
    "```json\n",
    "{\n",
    "  \"model_index\": 0,\n",
    "  \"features\": [1, 29.85, 29.85, 0, 1, 1, 0, 1, 0, 0, 1, 1, 0, 1, 0, 0, 0, 1, 0, 1, 1, 0, 0, 1, 0, 1, 0, 1, 0, 1, 0, 1, 0, 1, 0, 1, 0, 1, 0]\n",
    "}"
   ]
  },
  {
   "cell_type": "markdown",
   "metadata": {},
   "source": [
    "**Response**:\n",
    "```json\n",
    "{\n",
    "  \"prediction\": 0\n",
    "}\n"
   ]
  },
  {
   "cell_type": "markdown",
   "metadata": {},
   "source": []
  },
  {
   "cell_type": "markdown",
   "metadata": {},
   "source": []
  },
  {
   "cell_type": "markdown",
   "metadata": {},
   "source": [
    "Thank you for your time!\n"
   ]
  },
  {
   "cell_type": "markdown",
   "metadata": {},
   "source": [
    "Rayyan M."
   ]
  }
 ],
 "metadata": {
  "kernelspec": {
   "display_name": "Python 3",
   "language": "python",
   "name": "python3"
  },
  "language_info": {
   "codemirror_mode": {
    "name": "ipython",
    "version": 3
   },
   "file_extension": ".py",
   "mimetype": "text/x-python",
   "name": "python",
   "nbconvert_exporter": "python",
   "pygments_lexer": "ipython3",
   "version": "3.9.0"
  }
 },
 "nbformat": 4,
 "nbformat_minor": 2
}
